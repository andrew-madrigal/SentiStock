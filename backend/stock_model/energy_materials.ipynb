{
 "cells": [
  {
   "cell_type": "markdown",
   "id": "a2d8a389-7ab1-4b54-8237-3172251c8d85",
   "metadata": {},
   "source": [
    "## Energy, Materials, & Utilites Stocks - Andrew\n",
    "Follow along the code to do the preliminary data analysis!\\\n",
    "**Please refer to the [meeting notes here](https://docs.google.com/document/d/1tnDnYfO5m5GQz5Fm7_TbpzHN9bG3RmvqpgvL4TyOevI/edit?usp=sharing) to get familiar with all the column names and the values associated with them.**"
   ]
  },
  {
   "cell_type": "markdown",
   "id": "2c32d113-8725-441e-b9bc-ba38ebd18094",
   "metadata": {},
   "source": [
    "### Step 1: Install the necessary libraries for our data collection.\n",
    "[yfinance](https://python-yahoofinance.readthedocs.io/en/latest/): used to fetch historical stock data (price, volume, etc.) from Yahoo Finance for our assigned sectors.\\\n",
    "[ta](https://technical-analysis-library-in-python.readthedocs.io/en/latest/): used to calculate technical indicators from the price data we get with yfinance. These indicators help our model understand:\n",
    "- Trends (e.g., SMA, EMA, MACD)\n",
    "- Momentum (e.g., RSI)\n",
    "- Volatility (e.g., ATR, Bollinger Bands)\n",
    "- Volume pressure (e.g., OBV)"
   ]
  },
  {
   "cell_type": "code",
   "execution_count": 1,
   "id": "18cb2a96-d376-475c-93a3-446637ca0083",
   "metadata": {},
   "outputs": [
    {
     "name": "stdout",
     "output_type": "stream",
     "text": [
      "Collecting yfinance\n",
      "  Downloading yfinance-0.2.55-py2.py3-none-any.whl.metadata (5.8 kB)\n",
      "Requirement already satisfied: pandas>=1.3.0 in /opt/anaconda3/lib/python3.12/site-packages (from yfinance) (2.2.2)\n",
      "Requirement already satisfied: numpy>=1.16.5 in /opt/anaconda3/lib/python3.12/site-packages (from yfinance) (1.26.4)\n",
      "Requirement already satisfied: requests>=2.31 in /opt/anaconda3/lib/python3.12/site-packages (from yfinance) (2.32.2)\n",
      "Collecting multitasking>=0.0.7 (from yfinance)\n",
      "  Downloading multitasking-0.0.11-py3-none-any.whl.metadata (5.5 kB)\n",
      "Requirement already satisfied: platformdirs>=2.0.0 in /opt/anaconda3/lib/python3.12/site-packages (from yfinance) (3.10.0)\n",
      "Requirement already satisfied: pytz>=2022.5 in /opt/anaconda3/lib/python3.12/site-packages (from yfinance) (2024.1)\n",
      "Requirement already satisfied: frozendict>=2.3.4 in /opt/anaconda3/lib/python3.12/site-packages (from yfinance) (2.4.2)\n",
      "Collecting peewee>=3.16.2 (from yfinance)\n",
      "  Downloading peewee-3.17.9.tar.gz (3.0 MB)\n",
      "\u001b[2K     \u001b[90m━━━━━━━━━━━━━━━━━━━━━━━━━━━━━━━━━━━━━━━━\u001b[0m \u001b[32m3.0/3.0 MB\u001b[0m \u001b[31m14.4 MB/s\u001b[0m eta \u001b[36m0:00:00\u001b[0m00:01\u001b[0m00:01\u001b[0m\n",
      "\u001b[?25h  Installing build dependencies ... \u001b[?25ldone\n",
      "\u001b[?25h  Getting requirements to build wheel ... \u001b[?25ldone\n",
      "\u001b[?25h  Preparing metadata (pyproject.toml) ... \u001b[?25ldone\n",
      "\u001b[?25hRequirement already satisfied: beautifulsoup4>=4.11.1 in /opt/anaconda3/lib/python3.12/site-packages (from yfinance) (4.12.3)\n",
      "Requirement already satisfied: soupsieve>1.2 in /opt/anaconda3/lib/python3.12/site-packages (from beautifulsoup4>=4.11.1->yfinance) (2.5)\n",
      "Requirement already satisfied: python-dateutil>=2.8.2 in /opt/anaconda3/lib/python3.12/site-packages (from pandas>=1.3.0->yfinance) (2.9.0.post0)\n",
      "Requirement already satisfied: tzdata>=2022.7 in /opt/anaconda3/lib/python3.12/site-packages (from pandas>=1.3.0->yfinance) (2023.3)\n",
      "Requirement already satisfied: charset-normalizer<4,>=2 in /opt/anaconda3/lib/python3.12/site-packages (from requests>=2.31->yfinance) (2.0.4)\n",
      "Requirement already satisfied: idna<4,>=2.5 in /opt/anaconda3/lib/python3.12/site-packages (from requests>=2.31->yfinance) (3.7)\n",
      "Requirement already satisfied: urllib3<3,>=1.21.1 in /opt/anaconda3/lib/python3.12/site-packages (from requests>=2.31->yfinance) (2.2.2)\n",
      "Requirement already satisfied: certifi>=2017.4.17 in /opt/anaconda3/lib/python3.12/site-packages (from requests>=2.31->yfinance) (2024.7.4)\n",
      "Requirement already satisfied: six>=1.5 in /opt/anaconda3/lib/python3.12/site-packages (from python-dateutil>=2.8.2->pandas>=1.3.0->yfinance) (1.16.0)\n",
      "Downloading yfinance-0.2.55-py2.py3-none-any.whl (109 kB)\n",
      "\u001b[2K   \u001b[90m━━━━━━━━━━━━━━━━━━━━━━━━━━━━━━━━━━━━━━━━\u001b[0m \u001b[32m109.8/109.8 kB\u001b[0m \u001b[31m8.6 MB/s\u001b[0m eta \u001b[36m0:00:00\u001b[0m\n",
      "\u001b[?25hDownloading multitasking-0.0.11-py3-none-any.whl (8.5 kB)\n",
      "Building wheels for collected packages: peewee\n",
      "  Building wheel for peewee (pyproject.toml) ... \u001b[?25ldone\n",
      "\u001b[?25h  Created wheel for peewee: filename=peewee-3.17.9-cp312-cp312-macosx_10_15_x86_64.whl size=273873 sha256=e4ca95876d53fcf4062c93786c0e1f184df7b3b87b649b24c726bae3dba7622d\n",
      "  Stored in directory: /Users/Nonstopgamer227/Library/Caches/pip/wheels/43/ef/2d/2c51d496bf084945ffdf838b4cc8767b8ba1cc20eb41588831\n",
      "Successfully built peewee\n",
      "Installing collected packages: peewee, multitasking, yfinance\n",
      "Successfully installed multitasking-0.0.11 peewee-3.17.9 yfinance-0.2.55\n",
      "Collecting ta\n",
      "  Downloading ta-0.11.0.tar.gz (25 kB)\n",
      "  Preparing metadata (setup.py) ... \u001b[?25ldone\n",
      "\u001b[?25hRequirement already satisfied: numpy in /opt/anaconda3/lib/python3.12/site-packages (from ta) (1.26.4)\n",
      "Requirement already satisfied: pandas in /opt/anaconda3/lib/python3.12/site-packages (from ta) (2.2.2)\n",
      "Requirement already satisfied: python-dateutil>=2.8.2 in /opt/anaconda3/lib/python3.12/site-packages (from pandas->ta) (2.9.0.post0)\n",
      "Requirement already satisfied: pytz>=2020.1 in /opt/anaconda3/lib/python3.12/site-packages (from pandas->ta) (2024.1)\n",
      "Requirement already satisfied: tzdata>=2022.7 in /opt/anaconda3/lib/python3.12/site-packages (from pandas->ta) (2023.3)\n",
      "Requirement already satisfied: six>=1.5 in /opt/anaconda3/lib/python3.12/site-packages (from python-dateutil>=2.8.2->pandas->ta) (1.16.0)\n",
      "Building wheels for collected packages: ta\n",
      "  Building wheel for ta (setup.py) ... \u001b[?25ldone\n",
      "\u001b[?25h  Created wheel for ta: filename=ta-0.11.0-py3-none-any.whl size=29411 sha256=7254eb713f9a0943f766c62d926b6e529472d2ec82b998096145841e0c426603\n",
      "  Stored in directory: /Users/Nonstopgamer227/Library/Caches/pip/wheels/5c/a1/5f/c6b85a7d9452057be4ce68a8e45d77ba34234a6d46581777c6\n",
      "Successfully built ta\n",
      "Installing collected packages: ta\n",
      "Successfully installed ta-0.11.0\n"
     ]
    }
   ],
   "source": [
    "!pip install yfinance\n",
    "!pip install ta"
   ]
  },
  {
   "cell_type": "markdown",
   "id": "d2cf2f0c-04e5-45e9-9d67-bc5fc21db744",
   "metadata": {},
   "source": [
    "### Step 2: Import the necessary libraries"
   ]
  },
  {
   "cell_type": "code",
   "execution_count": 5,
   "id": "7738a01c-16fa-4653-9e4d-226731c380f2",
   "metadata": {},
   "outputs": [],
   "source": [
    "import yfinance as yf\n",
    "import pandas as pd\n",
    "import time\n",
    "import ta"
   ]
  },
  {
   "cell_type": "markdown",
   "id": "9bcc3f82-608b-45f7-a697-9f18fb059ce1",
   "metadata": {},
   "source": [
    "### Step 3: Collect Preliminary Stock Data Using `yfinance`\n",
    "\n",
    "In this step, you will collect **5 years of historical daily stock data** for your assigned sector using the `yfinance` library.\n",
    "\n",
    "**What this code does:**\n",
    "- Loops through a list of stock tickers.\n",
    "- Uses `yfinance` to download daily data for each stock over a 5-year period.\n",
    "- Waits 3 seconds between requests to avoid hitting API limits.\n",
    "- Cleans and formats the data: resets the index and adds a \"Ticker\" column.\n",
    "- Stores all the data in one master DataFrame called `price_df`.\n",
    "\n",
    "**What you need to do:**\n",
    "- Replace the `tickers` list with the stocks **assigned to your sector**.\n",
    "- You can find your list of stocks by referring to the excel file we created earlier [here](https://docs.google.com/spreadsheets/d/19n8ye_mwPM6QVbFJjG4eVUfiqUiGMQ-MujnMY_zMUs8/edit?usp=sharing).\n",
    "- Run the code block to create your `price_df`, which you will later use for feature engineering.\n",
    "\n",
    "If no data is found or an error occurs for a ticker, it will be skipped and reported in the output.\\\n",
    "\n",
    "*If you are running into errors with `yfinance` and hitting api limits, please wait a few hours and try running the code again. Please avoing running the cell multiple times to not run into this issue!*\n",
    "\n",
    "Below is the code you should run (after customizing your ticker list):"
   ]
  },
  {
   "cell_type": "code",
   "execution_count": 7,
   "id": "0e4b991d-6ccb-4994-a28c-72109f4e331f",
   "metadata": {},
   "outputs": [
    {
     "name": "stdout",
     "output_type": "stream",
     "text": [
      "PCG added\n",
      "AEP added\n",
      "AWK added\n",
      "XOM added\n",
      "CVX added\n",
      "SHW added\n",
      "VLO added\n",
      "DUK-PA added\n",
      "HES added\n",
      "NISTF added\n",
      "ATO added\n",
      "STLD added\n",
      "APD added\n",
      "NEE-PR added\n",
      "NEM added\n",
      "XEL added\n",
      "EIX added\n",
      "FE added\n",
      "NRG added\n",
      "                       Date Ticker       Open       High        Low  \\\n",
      "0 2020-04-06 00:00:00-04:00    PCG   8.239003   8.746478   8.219102   \n",
      "1 2020-04-07 00:00:00-04:00    PCG   8.965388   9.015140   8.517616   \n",
      "2 2020-04-08 00:00:00-04:00    PCG   8.905686  10.905735   8.756429   \n",
      "3 2020-04-09 00:00:00-04:00    PCG  11.403258  12.537614  11.005239   \n",
      "4 2020-04-13 00:00:00-04:00    PCG  11.761475  11.851030  10.875883   \n",
      "\n",
      "       Close    Volume  \n",
      "0   8.517617  10922200  \n",
      "1   8.527566   9039800  \n",
      "2  10.846031  20167000  \n",
      "3  11.930634  19666000  \n",
      "4  11.542565   7141000  \n"
     ]
    }
   ],
   "source": [
    "# Refer back to the csv file to find the stocks you selected, and replace these tickers with your own.\n",
    "tickers = [\n",
    "    'PCG','AEP','AWK',\n",
    "'XOM',\n",
    "'CVX',\n",
    "'SHW',\n",
    "'VLO',\n",
    "'DUK-PA',\n",
    "'HES',\n",
    "'NISTF',\n",
    "'ATO',\n",
    "'STLD',\n",
    "'APD',\n",
    "'NEE-PR',\n",
    "'NEM',\n",
    "'XEL',\n",
    "'EIX',\n",
    "'FE',\n",
    "'NRG'\n",
    "]\n",
    "\n",
    "#CODE BELOW DOES NOT NEED TO BE CHANGED\n",
    "# List to hold all data\n",
    "all_data = []\n",
    "\n",
    "# Loop through each ticker\n",
    "for ticker in tickers:\n",
    "    try:\n",
    "        df = yf.Ticker(ticker).history(period=\"5y\", interval=\"1d\")\n",
    "        time.sleep(3) # wait in between requests to avoid request limits\n",
    "        if df.empty:\n",
    "            print(f\"No data for {ticker}\")\n",
    "            continue\n",
    "\n",
    "        df = df.reset_index()  # Convert index to Date column\n",
    "        df[\"Ticker\"] = ticker  # Add ticker column\n",
    "        all_data.append(df[[\"Date\", \"Ticker\", \"Open\", \"High\", \"Low\", \"Close\", \"Volume\"]])\n",
    "        print(f\"{ticker} added\")\n",
    "    except Exception as e:\n",
    "        print(f\"Error fetching {ticker}: {e}\")\n",
    "\n",
    "# Concatenate all into one DataFrame\n",
    "price_df = pd.concat(all_data, ignore_index=True)\n",
    "\n",
    "# Preview the result\n",
    "print(price_df.head())"
   ]
  },
  {
   "cell_type": "markdown",
   "id": "c9213945-d76c-4847-8f93-db63d6b0f92e",
   "metadata": {},
   "source": [
    "### Step 4: Generate Price-Based and Technical Indicators\n",
    "\n",
    "Now that you have your stock data, it’s time to create additional features that help the model understand market trends, volatility, and momentum.\n",
    "\n",
    "**What this code does:**\n",
    "- Calculates **daily returns** and **VWAP** (volume-weighted average price).\n",
    "- Adds several **technical indicators** like:\n",
    "  - Simple and Exponential Moving Averages (SMA, EMA)\n",
    "  - Relative Strength Index (RSI)\n",
    "  - MACD and Signal Line\n",
    "  - Bollinger Bands (Upper and Lower)\n",
    "  - Average True Range (ATR)\n",
    "  - On-Balance Volume (OBV)\n",
    "- Groups the data by ticker to apply indicator calculations correctly.\n",
    "- Combines everything into a single DataFrame with all features.\n",
    "\n",
    "**What you need to do:**\n",
    "- You **do not need to modify anything** in this code block **except one thing**:\n",
    "  - In the **last line**, rename the CSV file to reflect your assigned sector name:\n",
    "    ```python\n",
    "    tech_df.to_csv(\"your_sector_name_data_with_indicators.csv\", index=False)\n",
    "    ```\n",
    "\n",
    "Once this is done, you’ll have a feature-rich dataset ready for modeling!"
   ]
  },
  {
   "cell_type": "code",
   "execution_count": 9,
   "id": "aac97058-fa1a-4fe8-bbe0-1556d8519c08",
   "metadata": {},
   "outputs": [],
   "source": [
    "tech_df = price_df.copy()\n",
    "\n",
    "# --- Price-based indicators ---\n",
    "tech_df['Daily Return'] = tech_df.groupby(\"Ticker\")['Close'].pct_change(fill_method=None)\n",
    "tech_df['Typical Price'] = (tech_df['High'] + tech_df['Low'] + tech_df['Close']) / 3\n",
    "tech_df['VWAP'] = (tech_df['Typical Price'] * tech_df['Volume']).groupby(tech_df['Ticker']).cumsum() / tech_df['Volume'].groupby(tech_df['Ticker']).cumsum()\n",
    "\n",
    "# --- Technical indicators ---\n",
    "grouped = tech_df.groupby(\"Ticker\", group_keys=False)\n",
    "tech_df['SMA_20'] = grouped['Close'].apply(lambda x: x.rolling(window=20).mean())\n",
    "tech_df['EMA_20'] = grouped['Close'].apply(lambda x: x.ewm(span=20, adjust=False).mean())\n",
    "tech_df['RSI_14'] = grouped['Close'].apply(lambda x: ta.momentum.RSIIndicator(close=x, window=14).rsi())\n",
    "tech_df['MACD'] = grouped['Close'].apply(lambda x: ta.trend.MACD(close=x).macd())\n",
    "tech_df['MACD_Signal'] = grouped['Close'].apply(lambda x: ta.trend.MACD(close=x).macd_signal())\n",
    "tech_df['BB_Upper'] = grouped['Close'].apply(lambda x: ta.volatility.BollingerBands(close=x, window=20).bollinger_hband())\n",
    "tech_df['BB_Lower'] = grouped['Close'].apply(lambda x: ta.volatility.BollingerBands(close=x, window=20).bollinger_lband())\n",
    "# Create empty columns\n",
    "tech_df['ATR'] = None\n",
    "tech_df['OBV'] = None\n",
    "\n",
    "# Loop through each group (ticker) and calculate indicators\n",
    "result_frames = []\n",
    "\n",
    "for ticker, group in tech_df.groupby(\"Ticker\"):\n",
    "    group = group.copy()\n",
    "    group.sort_values('Date', inplace=True)\n",
    "\n",
    "    # ATR\n",
    "    atr = ta.volatility.AverageTrueRange(\n",
    "        high=group['High'],\n",
    "        low=group['Low'],\n",
    "        close=group['Close']\n",
    "    ).average_true_range()\n",
    "    group['ATR'] = atr\n",
    "\n",
    "    # OBV\n",
    "    obv = ta.volume.OnBalanceVolumeIndicator(\n",
    "        close=group['Close'],\n",
    "        volume=group['Volume']\n",
    "    ).on_balance_volume()\n",
    "    group['OBV'] = obv\n",
    "\n",
    "    result_frames.append(group)\n",
    "\n",
    "# Combine the updated groups back together\n",
    "tech_df = pd.concat(result_frames, ignore_index=True)\n",
    "\n",
    "# Save to CSV, rename it to correspond to your sector. Please replace \"sector\" with your corresponding sector.\n",
    "tech_df.to_csv(\"energy_sector.csv\", index=False)"
   ]
  },
  {
<<<<<<< HEAD
   "cell_type": "code",
   "execution_count": null,
   "id": "cd2db197-40d8-4918-bfa3-7871c995a9e6",
=======
   "cell_type": "markdown",
   "id": "64f37b1a-3ce3-4b9a-8a49-b2b0f47660a7",
   "metadata": {},
   "source": [
    "## Exploratory Data Analysis (EDA)"
   ]
  },
  {
   "cell_type": "markdown",
   "id": "b7576342-1c4e-43f5-914b-56bcc740dd4c",
   "metadata": {},
   "source": [
    "Load the csv you just created, and give it a name. Replace the csv name (what is in quoets \"\"), with the csv you created above."
   ]
  },
  {
   "cell_type": "code",
   "execution_count": null,
   "id": "14f6f584-0fc0-4e6a-90f1-57a14aa9a826",
   "metadata": {},
   "outputs": [],
   "source": [
    "energy_df = pd.read_csv(\"sector_data_with_indicators.csv\")\n",
    "energy_df.head() #shows first 5 rows of data frame"
   ]
  },
  {
   "cell_type": "code",
   "execution_count": null,
   "id": "8570bc7a-c346-4499-8095-e911495b8b8e",
   "metadata": {},
   "outputs": [],
   "source": [
    "!pip install seaborn"
   ]
  },
  {
   "cell_type": "code",
   "execution_count": null,
   "id": "6a5da73b-4dee-4378-9fa9-72a4bc9bd446",
   "metadata": {},
   "outputs": [],
   "source": [
    "# Data Handling\n",
    "import numpy as np\n",
    "\n",
    "# Visualizations\n",
    "import matplotlib.pyplot as plt\n",
    "import seaborn as sns\n",
    "\n",
    "# Plot settings for nicer visuals\n",
    "%matplotlib inline\n",
    "sns.set(style='whitegrid')\n",
    "plt.rcParams[\"figure.figsize\"] = (10, 6)"
   ]
  },
  {
   "cell_type": "markdown",
   "id": "b97d6475-2ad2-42b4-89b6-77657d0d7519",
   "metadata": {},
   "source": [
    "### EDA Guidelines\n",
    "\n",
    "Follow these steps to explore and understand your dataset before modeling. This will help uncover patterns, identify issues, and engineer features that improve performance.\n",
    "\n",
    "**Resources (Videos):**\n",
    "- [Learn EDA - Playlist](https://www.youtube.com/watch?v=78ut-S-QOEQ&list=PLe9UEU4oeAuV7RtCbL76hca5ELO_IELk4&ab_channel=MarkKeith)\n",
    "- [Complete Exploratory Data Analysis And Feature Engineering In 3 Hours| Krish Naik](https://youtu.be/fHFOANOHwh8?si=1SRsxlRJpOlUGMhI)\n",
    "- [How to Do Data Exploration (step-by-step tutorial on real-life dataset)](https://youtu.be/OY4eQrekQvs?si=i1QzaMrCFQmxg1uJ)"
   ]
  },
  {
   "cell_type": "markdown",
   "id": "07b2ddcf-933e-4a87-a0a8-15341df7adcd",
   "metadata": {},
   "source": [
    "#### 1) Get Rid of Any Null Values If You Have Any\n",
    "\n",
    "- First, check for missing (`NaN`) values across all columns.\n",
    "- If there are only a few missing entries, drop them.\n",
    "- **Resource**: [A Guide to Handling Missing values in Python](https://www.kaggle.com/code/parulpandey/a-guide-to-handling-missing-values-in-python)\n",
    "\n",
    "```python\n",
    "# Check for null values\n",
    "df.isnull().sum()\n",
    "\n",
    "# Drop rows with any nulls (simple but aggressive)\n",
    "df = df.dropna()"
   ]
  },
  {
   "cell_type": "code",
   "execution_count": null,
   "id": "4b56f643-7f0b-4d7e-8c28-98ea7b886ac7",
   "metadata": {},
   "outputs": [],
   "source": []
  },
  {
   "cell_type": "markdown",
   "id": "eaecf9c8-f883-4375-b011-a72ec9c489eb",
   "metadata": {},
   "source": [
    "#### 2) Inspect Your Overall Cleaned Dataset Using Summary Statistics\n",
    "- Use `.info()` and `.describe()` to understand the shape, datatypes, and distributions of the dataset.\n",
    "- This gives a high-level snapshot of numeric features and potential outliers or irregularities.\n",
    "- **Resource:**: [An Introduction To Summary Statistics In Python (With Code Examples)](https://zerotomastery.io/blog/summary-statistics-in-python/)"
   ]
  },
  {
   "cell_type": "code",
   "execution_count": null,
   "id": "b54dea0f-3a36-4cb5-b277-f94eefb08954",
   "metadata": {},
   "outputs": [],
   "source": []
  },
  {
   "cell_type": "markdown",
   "id": "3c464b67-310f-4a0d-8cf0-8de5bec45058",
   "metadata": {},
   "source": [
    "#### 3) Create Plots to Explore Distributions\n",
    "Plot histograms and KDE plots to check how features like RSI, MACD, and Volume, etc. are distributed. This helps you spot skewness, spikes, and potential transformations.\n",
    "**Resources**: \n",
    "- [Seaborn Kdeplot - A Comprehensive Guide](https://www.digitalocean.com/community/tutorials/seaborn-kdeplot)\n",
    "- [Python Histogram Plotting: NumPy, Matplotlib, pandas & Seaborn](https://realpython.com/python-histograms/)"
   ]
  },
  {
   "cell_type": "code",
   "execution_count": null,
   "id": "d48deeb0-3ac1-41b9-bb71-1a2af5ce3ced",
   "metadata": {},
   "outputs": [],
   "source": []
  },
  {
   "cell_type": "markdown",
   "id": "82770274-15ab-483c-aee1-507c7a9bb762",
   "metadata": {},
   "source": [
    "#### 4) Generate a Correlation Heatmap to Spot Redundant Features\n",
    "Highly correlated features can be redundant and may hurt certain models. Use a heatmap to visually inspect correlation between numerical features.\n",
    "- **Resource**: [5 Minute EDA: Correlation Heatmap](https://medium.com/5-minute-eda/5-minute-eda-correlation-heatmap-b57bbb7bae14)"
   ]
  },
  {
   "cell_type": "code",
   "execution_count": null,
   "id": "829c96fb-e1b9-4766-9c05-0fcf29ca185a",
   "metadata": {},
   "outputs": [],
   "source": []
  },
  {
   "cell_type": "markdown",
   "id": "28c2efb9-9a48-4c26-b63f-1583e4ac669d",
   "metadata": {},
   "source": [
    "#### 5) Check the Relationship Between Features and the Target\n",
    "Explore how technical indicators relate to the target (next day’s close). Use scatter plots or group-by summaries to spot patterns.\n",
    "- **Resource**: [Scatter plot with a grouping variable with Pandas](https://python-graph-gallery.com/537-scatter-plots-grouped-by-color-with-pandas/)"
   ]
  },
  {
   "cell_type": "code",
   "execution_count": null,
   "id": "a575d718-0313-4cd7-a2dc-413cf0fe1e34",
   "metadata": {},
   "outputs": [],
   "source": []
  },
  {
   "cell_type": "markdown",
   "id": "6ecd99f1-d3e9-40ee-9eeb-959c6d780293",
   "metadata": {},
   "source": [
    "#### 6) Use Boxplots to Detect Outliers\n",
    "- Boxplots are a great way to spot extreme values or outliers in numeric features. \n",
    "- Outliers can influence your model heavily — decide whether to keep, remove, or transform them.\n",
    "- **Resource**: [How to detect outliers using IQR and Boxplots?](https://www.machinelearningplus.com/machine-learning/how-to-detect-outliers-using-iqr-and-boxplots/)"
   ]
  },
  {
   "cell_type": "code",
   "execution_count": null,
   "id": "a75cfa45-5077-49ac-ab31-89da5e9284b7",
   "metadata": {},
   "outputs": [],
   "source": []
  },
  {
   "cell_type": "markdown",
   "id": "7519171a-5946-4d68-b163-48f8f89be294",
   "metadata": {},
   "source": [
    "#### 7) Investigate Patterns Over Time or Between Groups (Sector, Ticker, etc.)\n",
    "- Use time-based plots to see if the target or indicators change by day of the week or over time.\n",
    "- Grouped boxplots can help reveal differences between companies or sectors.\n",
    "- **Resource**: [Python Plotting for Exploratory Data Analysis](https://pythonplot.com/)"
   ]
  },
  {
   "cell_type": "code",
   "execution_count": null,
   "id": "6250ff94-e72d-4529-849c-0f0b2913ce12",
   "metadata": {},
   "outputs": [],
   "source": []
  },
  {
   "cell_type": "markdown",
   "id": "4fd354f8-70c6-472b-9cb3-534ba9b3803a",
   "metadata": {},
   "source": [
    "#### 8) Brainstorm & Engineer New Features Based on Your Insights\n",
    "- Consider creating features like price range, volatility, lagged prices, or differences from moving averages.\n",
    "- These can help capture patterns not directly visible in raw features.\n",
    "- **Resource**: [A Reference Guide to Feature Engineering](https://www.kaggle.com/code/prashant111/a-reference-guide-to-feature-engineering-methods)"
   ]
  },
  {
   "cell_type": "code",
   "execution_count": null,
   "id": "8c904910-e882-4c74-a864-1c2d1a699793",
>>>>>>> cc1f72ad9b34b6cf2dda13bc945e6cdc04ee9915
   "metadata": {},
   "outputs": [],
   "source": []
  }
 ],
 "metadata": {
  "kernelspec": {
   "display_name": "Python 3 (ipykernel)",
   "language": "python",
   "name": "python3"
  },
  "language_info": {
   "codemirror_mode": {
    "name": "ipython",
    "version": 3
   },
   "file_extension": ".py",
   "mimetype": "text/x-python",
   "name": "python",
   "nbconvert_exporter": "python",
   "pygments_lexer": "ipython3",
   "version": "3.12.4"
  }
 },
 "nbformat": 4,
 "nbformat_minor": 5
}
