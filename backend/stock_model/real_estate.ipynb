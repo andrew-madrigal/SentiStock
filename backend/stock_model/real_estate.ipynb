{
 "cells": [
  {
   "cell_type": "markdown",
   "id": "a2d8a389-7ab1-4b54-8237-3172251c8d85",
   "metadata": {},
   "source": [
    "## Real Estate Stocks - Finna\n",
    "Follow along the code to do the preliminary data analysis!\\\n",
    "**Please refer to the [meeting notes here](https://docs.google.com/document/d/1tnDnYfO5m5GQz5Fm7_TbpzHN9bG3RmvqpgvL4TyOevI/edit?usp=sharing) to get familiar with all the column names and the values associated with them.**"
   ]
  },
  {
   "cell_type": "markdown",
   "id": "2c32d113-8725-441e-b9bc-ba38ebd18094",
   "metadata": {},
   "source": [
    "### Step 1: Install the necessary libraries for our data collection.\n",
    "[yfinance](https://python-yahoofinance.readthedocs.io/en/latest/): used to fetch historical stock data (price, volume, etc.) from Yahoo Finance for our assigned sectors.\\\n",
    "[ta](https://technical-analysis-library-in-python.readthedocs.io/en/latest/): used to calculate technical indicators from the price data we get with yfinance. These indicators help our model understand:\n",
    "- Trends (e.g., SMA, EMA, MACD)\n",
    "- Momentum (e.g., RSI)\n",
    "- Volatility (e.g., ATR, Bollinger Bands)\n",
    "- Volume pressure (e.g., OBV)"
   ]
  },
  {
   "cell_type": "code",
   "execution_count": 2,
   "id": "18cb2a96-d376-475c-93a3-446637ca0083",
   "metadata": {},
   "outputs": [
    {
     "name": "stdout",
     "output_type": "stream",
     "text": [
      "Defaulting to user installation because normal site-packages is not writeable\n",
      "Collecting yfinance\n",
      "  Downloading yfinance-0.2.55-py2.py3-none-any.whl (109 kB)\n",
      "\u001b[K     |████████████████████████████████| 109 kB 5.0 MB/s eta 0:00:01\n",
      "\u001b[?25hCollecting requests>=2.31\n",
      "  Using cached requests-2.32.3-py3-none-any.whl (64 kB)\n",
      "Requirement already satisfied: numpy>=1.16.5 in /opt/anaconda3/lib/python3.8/site-packages (from yfinance) (1.19.2)\n",
      "Collecting peewee>=3.16.2\n",
      "  Downloading peewee-3.17.9.tar.gz (3.0 MB)\n",
      "\u001b[K     |████████████████████████████████| 3.0 MB 16.8 MB/s eta 0:00:01\n",
      "\u001b[?25h  Installing build dependencies ... \u001b[?25ldone\n",
      "\u001b[?25h  Getting requirements to build wheel ... \u001b[?25ldone\n",
      "\u001b[?25h    Preparing wheel metadata ... \u001b[?25ldone\n",
      "\u001b[?25hCollecting pytz>=2022.5\n",
      "  Downloading pytz-2025.2-py2.py3-none-any.whl (509 kB)\n",
      "\u001b[K     |████████████████████████████████| 509 kB 22.5 MB/s eta 0:00:01\n",
      "\u001b[?25hCollecting frozendict>=2.3.4\n",
      "  Downloading frozendict-2.4.6-cp38-cp38-macosx_10_9_x86_64.whl (37 kB)\n",
      "Collecting beautifulsoup4>=4.11.1\n",
      "  Downloading beautifulsoup4-4.13.3-py3-none-any.whl (186 kB)\n",
      "\u001b[K     |████████████████████████████████| 186 kB 20.3 MB/s eta 0:00:01\n",
      "\u001b[?25hCollecting platformdirs>=2.0.0\n",
      "  Using cached platformdirs-4.3.6-py3-none-any.whl (18 kB)\n",
      "Collecting multitasking>=0.0.7\n",
      "  Using cached multitasking-0.0.11-py3-none-any.whl (8.5 kB)\n",
      "Collecting pandas>=1.3.0\n",
      "  Using cached pandas-2.0.3-cp38-cp38-macosx_10_9_x86_64.whl (11.7 MB)\n",
      "Requirement already satisfied: idna<4,>=2.5 in /opt/anaconda3/lib/python3.8/site-packages (from requests>=2.31->yfinance) (2.10)\n",
      "Requirement already satisfied: certifi>=2017.4.17 in /opt/anaconda3/lib/python3.8/site-packages (from requests>=2.31->yfinance) (2020.6.20)\n",
      "Collecting charset-normalizer<4,>=2\n",
      "  Downloading charset_normalizer-3.4.1-py3-none-any.whl (49 kB)\n",
      "\u001b[K     |████████████████████████████████| 49 kB 15.2 MB/s eta 0:00:01\n",
      "\u001b[?25hRequirement already satisfied: urllib3<3,>=1.21.1 in /opt/anaconda3/lib/python3.8/site-packages (from requests>=2.31->yfinance) (1.25.11)\n",
      "Requirement already satisfied: soupsieve>1.2 in /opt/anaconda3/lib/python3.8/site-packages (from beautifulsoup4>=4.11.1->yfinance) (2.0.1)\n",
      "Collecting typing-extensions>=4.0.0\n",
      "  Downloading typing_extensions-4.13.2-py3-none-any.whl (45 kB)\n",
      "\u001b[K     |████████████████████████████████| 45 kB 8.6 MB/s  eta 0:00:01\n",
      "\u001b[?25hCollecting python-dateutil>=2.8.2\n",
      "  Using cached python_dateutil-2.9.0.post0-py2.py3-none-any.whl (229 kB)\n",
      "Collecting tzdata>=2022.1\n",
      "  Downloading tzdata-2025.2-py2.py3-none-any.whl (347 kB)\n",
      "\u001b[K     |████████████████████████████████| 347 kB 25.5 MB/s eta 0:00:01\n",
      "\u001b[?25hRequirement already satisfied: six>=1.5 in /opt/anaconda3/lib/python3.8/site-packages (from python-dateutil>=2.8.2->pandas>=1.3.0->yfinance) (1.15.0)\n",
      "Building wheels for collected packages: peewee\n",
      "  Building wheel for peewee (PEP 517) ... \u001b[?25l\\^C\n",
      "Traceback (most recent call last):\n",
      "  File \"/opt/anaconda3/bin/pip\", line 11, in <module>\n",
      "    sys.exit(main())\n",
      "  File \"/opt/anaconda3/lib/python3.8/site-packages/pip/_internal/cli/main.py\", line 75, in main\n",
      "    return command.main(cmd_args)\n",
      "  File \"/opt/anaconda3/lib/python3.8/site-packages/pip/_internal/cli/base_command.py\", line 121, in main\n",
      "    return self._main(args)\n",
      "  File \"/opt/anaconda3/lib/python3.8/site-packages/pip/_internal/cli/base_command.py\", line 265, in _main\n",
      "    self.handle_pip_version_check(options)\n",
      "  File \"/opt/anaconda3/lib/python3.8/site-packages/pip/_internal/cli/req_command.py\", line 155, in handle_pip_version_check\n",
      "    pip_self_version_check(session, options)\n",
      "  File \"/opt/anaconda3/lib/python3.8/site-packages/pip/_internal/self_outdated_check.py\", line 130, in pip_self_version_check\n",
      "    installed_version = get_installed_version(\"pip\")\n",
      "  File \"/opt/anaconda3/lib/python3.8/site-packages/pip/_internal/utils/misc.py\", line 665, in get_installed_version\n",
      "    working_set = pkg_resources.WorkingSet()\n",
      "  File \"/opt/anaconda3/lib/python3.8/site-packages/pip/_vendor/pkg_resources/__init__.py\", line 567, in __init__\n",
      "    self.add_entry(entry)\n",
      "  File \"/opt/anaconda3/lib/python3.8/site-packages/pip/_vendor/pkg_resources/__init__.py\", line 623, in add_entry\n",
      "    for dist in find_distributions(entry, True):\n",
      "  File \"/opt/anaconda3/lib/python3.8/site-packages/pip/_vendor/pkg_resources/__init__.py\", line 2061, in find_on_path\n",
      "    path_item_entries = _by_version_descending(filtered)\n",
      "  File \"/opt/anaconda3/lib/python3.8/site-packages/pip/_vendor/pkg_resources/__init__.py\", line 2034, in _by_version_descending\n",
      "    return sorted(names, key=_by_version, reverse=True)\n",
      "  File \"/opt/anaconda3/lib/python3.8/site-packages/pip/_vendor/pkg_resources/__init__.py\", line 2057, in <genexpr>\n",
      "    if dist_factory(path_item, entry, only)\n",
      "  File \"/opt/anaconda3/lib/python3.8/site-packages/pip/_vendor/pkg_resources/__init__.py\", line 2074, in dist_factory\n",
      "    is_meta = any(map(lower.endswith, ('.egg-info', '.dist-info')))\n",
      "KeyboardInterrupt\n",
      "Defaulting to user installation because normal site-packages is not writeable\n",
      "Collecting ta\n",
      "  Downloading ta-0.11.0.tar.gz (25 kB)\n",
      "Requirement already satisfied: numpy in /opt/anaconda3/lib/python3.8/site-packages (from ta) (1.19.2)\n",
      "Requirement already satisfied: pandas in /opt/anaconda3/lib/python3.8/site-packages (from ta) (1.1.3)\n",
      "Requirement already satisfied: pytz>=2017.2 in /opt/anaconda3/lib/python3.8/site-packages (from pandas->ta) (2020.1)\n",
      "Requirement already satisfied: python-dateutil>=2.7.3 in /opt/anaconda3/lib/python3.8/site-packages (from pandas->ta) (2.8.1)\n",
      "Requirement already satisfied: six>=1.5 in /opt/anaconda3/lib/python3.8/site-packages (from python-dateutil>=2.7.3->pandas->ta) (1.15.0)\n",
      "Building wheels for collected packages: ta\n",
      "  Building wheel for ta (setup.py) ... \u001b[?25ldone\n",
      "\u001b[?25h  Created wheel for ta: filename=ta-0.11.0-py3-none-any.whl size=29428 sha256=5f238f3fb6397a89e5c342a59f4de2626d6e3d3639c020aaf11b1a7e4d56c547\n",
      "  Stored in directory: /Users/fw/Library/Caches/pip/wheels/b1/8e/55/64e87f8cc064571b0096ff2e5f32a4d29e444705f33b361a3d\n",
      "Successfully built ta\n",
      "Installing collected packages: ta\n",
      "Successfully installed ta-0.11.0\n"
     ]
    }
   ],
   "source": [
    "!pip install yfinance\n",
    "!pip install ta"
   ]
  },
  {
   "cell_type": "markdown",
   "id": "d2cf2f0c-04e5-45e9-9d67-bc5fc21db744",
   "metadata": {},
   "source": [
    "### Step 2: Import the necessary libraries"
   ]
  },
  {
   "cell_type": "code",
   "execution_count": 3,
   "id": "7738a01c-16fa-4653-9e4d-226731c380f2",
   "metadata": {},
   "outputs": [
    {
     "ename": "ModuleNotFoundError",
     "evalue": "No module named 'yfinance'",
     "output_type": "error",
     "traceback": [
      "\u001b[0;31m---------------------------------------------------------------------------\u001b[0m",
      "\u001b[0;31mModuleNotFoundError\u001b[0m                       Traceback (most recent call last)",
      "\u001b[0;32m<ipython-input-3-957c1a6f848a>\u001b[0m in \u001b[0;36m<module>\u001b[0;34m\u001b[0m\n\u001b[0;32m----> 1\u001b[0;31m \u001b[0;32mimport\u001b[0m \u001b[0myfinance\u001b[0m \u001b[0;32mas\u001b[0m \u001b[0myf\u001b[0m\u001b[0;34m\u001b[0m\u001b[0;34m\u001b[0m\u001b[0m\n\u001b[0m\u001b[1;32m      2\u001b[0m \u001b[0;32mimport\u001b[0m \u001b[0mpandas\u001b[0m \u001b[0;32mas\u001b[0m \u001b[0mpd\u001b[0m\u001b[0;34m\u001b[0m\u001b[0;34m\u001b[0m\u001b[0m\n\u001b[1;32m      3\u001b[0m \u001b[0;32mimport\u001b[0m \u001b[0mtime\u001b[0m\u001b[0;34m\u001b[0m\u001b[0;34m\u001b[0m\u001b[0m\n\u001b[1;32m      4\u001b[0m \u001b[0;32mimport\u001b[0m \u001b[0mta\u001b[0m\u001b[0;34m\u001b[0m\u001b[0;34m\u001b[0m\u001b[0m\n",
      "\u001b[0;31mModuleNotFoundError\u001b[0m: No module named 'yfinance'"
     ]
    }
   ],
   "source": [
    "import yfinance as yf\n",
    "import pandas as pd\n",
    "import time\n",
    "import ta"
   ]
  },
  {
   "cell_type": "markdown",
   "id": "9bcc3f82-608b-45f7-a697-9f18fb059ce1",
   "metadata": {},
   "source": [
    "### Step 3: Collect Preliminary Stock Data Using `yfinance`\n",
    "\n",
    "In this step, you will collect **5 years of historical daily stock data** for your assigned sector using the `yfinance` library.\n",
    "\n",
    "**What this code does:**\n",
    "- Loops through a list of stock tickers.\n",
    "- Uses `yfinance` to download daily data for each stock over a 5-year period.\n",
    "- Waits 3 seconds between requests to avoid hitting API limits.\n",
    "- Cleans and formats the data: resets the index and adds a \"Ticker\" column.\n",
    "- Stores all the data in one master DataFrame called `price_df`.\n",
    "\n",
    "**What you need to do:**\n",
    "- Replace the `tickers` list with the stocks **assigned to your sector**.\n",
    "- You can find your list of stocks by referring to the excel file we created earlier [here](https://docs.google.com/spreadsheets/d/19n8ye_mwPM6QVbFJjG4eVUfiqUiGMQ-MujnMY_zMUs8/edit?usp=sharing).\n",
    "- Run the code block to create your `price_df`, which you will later use for feature engineering.\n",
    "\n",
    "If no data is found or an error occurs for a ticker, it will be skipped and reported in the output.\\\n",
    "\n",
    "*If you are running into errors with `yfinance` and hitting api limits, please wait a few hours and try running the code again. Please avoing running the cell multiple times to not run into this issue!*\n",
    "\n",
    "Below is the code you should run (after customizing your ticker list):"
   ]
  },
  {
   "cell_type": "code",
   "execution_count": null,
   "id": "0e4b991d-6ccb-4994-a28c-72109f4e331f",
   "metadata": {},
   "outputs": [
    {
     "name": "stdout",
     "output_type": "stream",
     "text": [
      "SEZL added\n",
      "IDCC added\n",
      "AGYS added\n",
      "BOX added\n",
      "ZETA added\n",
      "YOU added\n",
      "PAYO added\n",
      "PAY added\n",
      "LRN added\n",
      "UPWK added\n",
      "CLSK added\n",
      "CIFR added\n",
      "WHD added\n",
      "AESI added\n",
      "POST added\n",
      "AROC added\n",
      "LPX added\n",
      "LNTH added\n",
      "LMAT added\n",
      "CPRX added\n",
      "CORT added\n",
      "SEM added\n",
      "ANF added\n",
      "WRBY added\n",
      "OLLI added\n",
      "ELF added\n",
      "BROS added\n",
      "FSV added\n",
      "TRNO added\n",
      "CIGI added\n",
      "MRP added\n",
      "ABM added\n",
      "                       Date Ticker       Open       High        Low  \\\n",
      "0 2023-09-13 00:00:00-04:00   SEZL  13.513333  13.513333  13.513333   \n",
      "1 2023-09-14 00:00:00-04:00   SEZL   3.645000   6.092500   2.566667   \n",
      "2 2023-09-15 00:00:00-04:00   SEZL   2.641667   2.641667   2.223333   \n",
      "3 2023-09-18 00:00:00-04:00   SEZL   2.113333   2.695000   1.888333   \n",
      "4 2023-09-19 00:00:00-04:00   SEZL   3.401667   4.116667   2.720000   \n",
      "\n",
      "       Close    Volume  \n",
      "0  13.513333         0  \n",
      "1   2.635000    951600  \n",
      "2   2.236667    356400  \n",
      "3   2.155000    713400  \n",
      "4   2.900000  10405200  \n"
     ]
    }
   ],
   "source": [
    "# Refer back to the csv file to find the stocks you selected, and replace these tickers with your own.\n",
    "tickers = [\n",
    "    \"CBRE\", \"PLD\", \"AMT\", \"WELL\", \"EQIX\", \n",
    "    \"SPG\", \"PSA\", \"DLR\", \"O\", \"CCI\", \n",
    "    \"VICI\", \"EXR\", \"CSGP\", \"AVB\", \"VTR\", \n",
    "    \"EQR\", \"IRM\", \"SBAC\", \"WY\", \"INVH\"\n",
    "]\n",
    "\n",
    "#CODE BELOW DOES NOT NEED TO BE CHANGED\n",
    "# List to hold all data\n",
    "all_data = []\n",
    "\n",
    "# Loop through each ticker\n",
    "for ticker in tickers:\n",
    "    try:\n",
    "        df = yf.Ticker(ticker).history(period=\"5y\", interval=\"1d\")\n",
    "        time.sleep(3) # wait in between requests to avoid request limits\n",
    "        if df.empty:\n",
    "            print(f\"No data for {ticker}\")\n",
    "            continue\n",
    "\n",
    "        df = df.reset_index()  # Convert index to Date column\n",
    "        df[\"Ticker\"] = ticker  # Add ticker column\n",
    "        all_data.append(df[[\"Date\", \"Ticker\", \"Open\", \"High\", \"Low\", \"Close\", \"Volume\"]])\n",
    "        print(f\"{ticker} added\")\n",
    "    except Exception as e:\n",
    "        print(f\"Error fetching {ticker}: {e}\")\n",
    "\n",
    "# Concatenate all into one DataFrame\n",
    "price_df = pd.concat(all_data, ignore_index=True)\n",
    "\n",
    "# Preview the result\n",
    "print(price_df.head())"
   ]
  },
  {
   "cell_type": "markdown",
   "id": "c9213945-d76c-4847-8f93-db63d6b0f92e",
   "metadata": {},
   "source": [
    "### Step 4: Generate Price-Based and Technical Indicators\n",
    "\n",
    "Now that you have your stock data, it’s time to create additional features that help the model understand market trends, volatility, and momentum.\n",
    "\n",
    "**What this code does:**\n",
    "- Calculates **daily returns** and **VWAP** (volume-weighted average price).\n",
    "- Adds several **technical indicators** like:\n",
    "  - Simple and Exponential Moving Averages (SMA, EMA)\n",
    "  - Relative Strength Index (RSI)\n",
    "  - MACD and Signal Line\n",
    "  - Bollinger Bands (Upper and Lower)\n",
    "  - Average True Range (ATR)\n",
    "  - On-Balance Volume (OBV)\n",
    "- Groups the data by ticker to apply indicator calculations correctly.\n",
    "- Combines everything into a single DataFrame with all features.\n",
    "\n",
    "**What you need to do:**\n",
    "- You **do not need to modify anything** in this code block **except one thing**:\n",
    "  - In the **last line**, rename the CSV file to reflect your assigned sector name:\n",
    "    ```python\n",
    "    tech_df.to_csv(\"your_sector_name_data_with_indicators.csv\", index=False)\n",
    "    ```\n",
    "\n",
    "Once this is done, you’ll have a feature-rich dataset ready for modeling!"
   ]
  },
  {
   "cell_type": "code",
   "execution_count": null,
   "id": "aac97058-fa1a-4fe8-bbe0-1556d8519c08",
   "metadata": {},
   "outputs": [],
   "source": [
    "tech_df = price_df.copy()\n",
    "\n",
    "# --- Price-based indicators ---\n",
    "tech_df['Daily Return'] = tech_df.groupby(\"Ticker\")['Close'].pct_change(fill_method=None)\n",
    "tech_df['Typical Price'] = (tech_df['High'] + tech_df['Low'] + tech_df['Close']) / 3\n",
    "tech_df['VWAP'] = (tech_df['Typical Price'] * tech_df['Volume']).groupby(tech_df['Ticker']).cumsum() / tech_df['Volume'].groupby(tech_df['Ticker']).cumsum()\n",
    "\n",
    "# --- Technical indicators ---\n",
    "grouped = tech_df.groupby(\"Ticker\", group_keys=False)\n",
    "tech_df['SMA_20'] = grouped['Close'].apply(lambda x: x.rolling(window=20).mean())\n",
    "tech_df['EMA_20'] = grouped['Close'].apply(lambda x: x.ewm(span=20, adjust=False).mean())\n",
    "tech_df['RSI_14'] = grouped['Close'].apply(lambda x: ta.momentum.RSIIndicator(close=x, window=14).rsi())\n",
    "tech_df['MACD'] = grouped['Close'].apply(lambda x: ta.trend.MACD(close=x).macd())\n",
    "tech_df['MACD_Signal'] = grouped['Close'].apply(lambda x: ta.trend.MACD(close=x).macd_signal())\n",
    "tech_df['BB_Upper'] = grouped['Close'].apply(lambda x: ta.volatility.BollingerBands(close=x, window=20).bollinger_hband())\n",
    "tech_df['BB_Lower'] = grouped['Close'].apply(lambda x: ta.volatility.BollingerBands(close=x, window=20).bollinger_lband())\n",
    "# Create empty columns\n",
    "tech_df['ATR'] = None\n",
    "tech_df['OBV'] = None\n",
    "\n",
    "# Loop through each group (ticker) and calculate indicators\n",
    "result_frames = []\n",
    "\n",
    "for ticker, group in tech_df.groupby(\"Ticker\"):\n",
    "    group = group.copy()\n",
    "    group.sort_values('Date', inplace=True)\n",
    "\n",
    "    # ATR\n",
    "    atr = ta.volatility.AverageTrueRange(\n",
    "        high=group['High'],\n",
    "        low=group['Low'],\n",
    "        close=group['Close']\n",
    "    ).average_true_range()\n",
    "    group['ATR'] = atr\n",
    "\n",
    "    # OBV\n",
    "    obv = ta.volume.OnBalanceVolumeIndicator(\n",
    "        close=group['Close'],\n",
    "        volume=group['Volume']\n",
    "    ).on_balance_volume()\n",
    "    group['OBV'] = obv\n",
    "\n",
    "    result_frames.append(group)\n",
    "\n",
    "# Combine the updated groups back together\n",
    "tech_df = pd.concat(result_frames, ignore_index=True)\n",
    "\n",
    "# Save to CSV, rename it to correspond to your sector. Please replace \"sector\" with your corresponding sector.\n",
    "tech_df.to_csv(\"real_estate_data_with_indicators.csv\", index=False)"
   ]
  },
  {
   "cell_type": "markdown",
   "id": "a3c92ce2-7a27-4382-8862-5aebd9306a84",
   "metadata": {},
   "source": [
    "## Exploratory Data Analysis (EDA)"
   ]
  },
  {
   "cell_type": "markdown",
   "id": "db0e676e-1b6d-46e4-a185-abba9966b11f",
   "metadata": {},
   "source": [
    "Load the csv you just created, and give it a name. Replace the csv name (what is in quoets \"\"), with the csv you created above."
   ]
  },
  {
   "cell_type": "code",
   "execution_count": 4,
   "id": "14cdf7e8-a11d-42ec-b011-4bf7216b5dc1",
   "metadata": {},
   "outputs": [
    {
     "ename": "NameError",
     "evalue": "name 'pd' is not defined",
     "output_type": "error",
     "traceback": [
      "\u001b[0;31m---------------------------------------------------------------------------\u001b[0m",
      "\u001b[0;31mNameError\u001b[0m                                 Traceback (most recent call last)",
      "\u001b[0;32m<ipython-input-4-9f2f0cb0d94d>\u001b[0m in \u001b[0;36m<module>\u001b[0;34m\u001b[0m\n\u001b[0;32m----> 1\u001b[0;31m \u001b[0mrealestate_df\u001b[0m \u001b[0;34m=\u001b[0m \u001b[0mpd\u001b[0m\u001b[0;34m.\u001b[0m\u001b[0mread_csv\u001b[0m\u001b[0;34m(\u001b[0m\u001b[0;34m\"real_estate_data_with_indicators.csv\"\u001b[0m\u001b[0;34m)\u001b[0m\u001b[0;34m\u001b[0m\u001b[0;34m\u001b[0m\u001b[0m\n\u001b[0m\u001b[1;32m      2\u001b[0m \u001b[0mrealestate_df\u001b[0m\u001b[0;34m.\u001b[0m\u001b[0mhead\u001b[0m\u001b[0;34m(\u001b[0m\u001b[0;34m)\u001b[0m \u001b[0;31m#shows first 5 rows of data frame\u001b[0m\u001b[0;34m\u001b[0m\u001b[0;34m\u001b[0m\u001b[0m\n",
      "\u001b[0;31mNameError\u001b[0m: name 'pd' is not defined"
     ]
    }
   ],
   "source": [
    "realestate_df = pd.read_csv(\"real_estate_data_with_indicators.csv\")\n",
    "realestate_df.head() #shows first 5 rows of data frame"
   ]
  },
  {
   "cell_type": "code",
   "execution_count": null,
   "id": "5c344023-1516-44fa-8c03-02ca0459c1ed",
   "metadata": {},
   "outputs": [],
   "source": [
    "!pip install seaborn"
   ]
  },
  {
   "cell_type": "code",
   "execution_count": null,
   "id": "93aa328b-208c-45bf-ab2d-eca5b765429e",
   "metadata": {},
   "outputs": [],
   "source": [
    "# Data Handling\n",
    "import numpy as np\n",
    "\n",
    "# Visualizations\n",
    "import matplotlib.pyplot as plt\n",
    "import seaborn as sns\n",
    "\n",
    "# Plot settings for nicer visuals\n",
    "%matplotlib inline\n",
    "sns.set(style='whitegrid')\n",
    "plt.rcParams[\"figure.figsize\"] = (10, 6)"
   ]
  },
  {
   "cell_type": "markdown",
   "id": "47ea37ea-de9b-4667-a4af-21b2c3c6faba",
   "metadata": {},
   "source": [
    "### EDA Guidelines\n",
    "\n",
    "Follow these steps to explore and understand your dataset before modeling. This will help uncover patterns, identify issues, and engineer features that improve performance.\n",
    "\n",
    "**Resources (Videos):**\n",
    "- [Learn EDA - Playlist](https://www.youtube.com/watch?v=78ut-S-QOEQ&list=PLe9UEU4oeAuV7RtCbL76hca5ELO_IELk4&ab_channel=MarkKeith)\n",
    "- [Complete Exploratory Data Analysis And Feature Engineering In 3 Hours| Krish Naik](https://youtu.be/fHFOANOHwh8?si=1SRsxlRJpOlUGMhI)\n",
    "- [How to Do Data Exploration (step-by-step tutorial on real-life dataset)](https://youtu.be/OY4eQrekQvs?si=i1QzaMrCFQmxg1uJ)"
   ]
  },
  {
   "cell_type": "markdown",
   "id": "3ebedbc2-4620-4ea6-832d-139b2566079d",
   "metadata": {},
   "source": [
    "#### 1) Get Rid of Any Null Values If You Have Any\n",
    "\n",
    "- First, check for missing (`NaN`) values across all columns.\n",
    "- If there are only a few missing entries, drop them.\n",
    "- **Resource**: [A Guide to Handling Missing values in Python](https://www.kaggle.com/code/parulpandey/a-guide-to-handling-missing-values-in-python)\n",
    "\n",
    "```python\n",
    "# Check for null values\n",
    "df.isnull().sum()\n",
    "\n",
    "# Drop rows with any nulls (simple but aggressive)\n",
    "df = df.dropna()"
   ]
  },
  {
   "cell_type": "markdown",
   "id": "6a1ecfa9-a19b-4b59-b5ae-6b1b721af89d",
   "metadata": {},
   "source": [
    "#### 2) Inspect Your Overall Cleaned Dataset Using Summary Statistics\n",
    "- Use `.info()` and `.describe()` to understand the shape, datatypes, and distributions of the dataset.\n",
    "- This gives a high-level snapshot of numeric features and potential outliers or irregularities.\n",
    "- **Resource:**: [An Introduction To Summary Statistics In Python (With Code Examples)](https://zerotomastery.io/blog/summary-statistics-in-python/)"
   ]
  },
  {
   "cell_type": "code",
   "execution_count": null,
   "id": "77bfe851-c241-44c3-9aaf-e4123ca69ac5",
   "metadata": {},
   "outputs": [],
   "source": [
    "tickers = [\n",
    "    \"CBRE\", \"PLD\", \"AMT\", \"WELL\", \"EQIX\", \n",
    "    \"SPG\", \"PSA\", \"DLR\", \"O\", \"CCI\", \n",
    "    \"VICI\", \"EXR\", \"CSGP\", \"AVB\", \"VTR\", \n",
    "    \"EQR\", \"IRM\", \"SBAC\", \"WY\", \"INVH\"\n",
    "]\n",
    "\n",
    "realestate_df.isnull()\n",
    "realestate_df= realestate_df.dropna()\n",
    "\n",
    "realestate_df.info()\n",
    "realestate_df.describe()\n",
    "realestate_df.columns"
   ]
  },
  {
   "cell_type": "markdown",
   "id": "42576518-2ee5-43ad-b28b-57b5d8268677",
   "metadata": {},
   "source": [
    "#### 3) Create Plots to Explore Distributions\n",
    "Plot histograms and KDE plots to check how features like RSI, MACD, and Volume, etc. are distributed. This helps you spot skewness, spikes, and potential transformations.\n",
    "**Resources**: \n",
    "- [Seaborn Kdeplot - A Comprehensive Guide](https://www.digitalocean.com/community/tutorials/seaborn-kdeplot)\n",
    "- [Python Histogram Plotting: NumPy, Matplotlib, pandas & Seaborn](https://realpython.com/python-histograms/)"
   ]
  },
  {
   "cell_type": "code",
   "execution_count": null,
   "id": "224f7378-5818-474c-9dcb-9395d425f547",
   "metadata": {},
   "outputs": [],
   "source": [
    "#KDE plot for Volume\n",
    "for ticker in tickers:\n",
    "    sns.kdeplot(realestate_df[realestate_df['Ticker'] == ticker]['Volume'], label=ticker)\n",
    "plt.title('KDE Plot of Volume for Top 20 Real Estate Stocks')\n",
    "plt.xlabel('Volume')\n",
    "plt.xlim(10** -1.7, 10 ** 7.4)\n",
    "plt.ylabel('Density')\n",
    "plt.legend()\n",
    "plt.show()"
   ]
  },
  {
   "cell_type": "code",
   "execution_count": null,
   "id": "d4856820",
   "metadata": {},
   "outputs": [],
   "source": [
    "#KDE plot for RSI\n",
    "for ticker in tickers:\n",
    "    sns.kdeplot(realestate_df[realestate_df['Ticker'] == ticker]['RSI_14'], label=ticker)\n",
    "plt.title('KDE Plot of RSI for Top 20 Real Estate Stocks')\n",
    "plt.xlabel('RSI')\n",
    "plt.ylabel('Density')\n",
    "plt.legend()\n",
    "plt.show()"
   ]
  },
  {
   "cell_type": "code",
   "execution_count": null,
   "id": "fe0d96c3",
   "metadata": {},
   "outputs": [],
   "source": [
    "#KDE plot for MACD\n",
    "for ticker in tickers:\n",
    "    sns.kdeplot(realestate_df[realestate_df['Ticker'] == ticker]['MACD'], label=ticker)\n",
    "plt.title('KDE Plot of MACD for Top 20 Real Estate Stocks')\n",
    "plt.xlabel('MACD')\n",
    "plt.xlim(-30, 30)\n",
    "plt.ylabel('Density')\n",
    "plt.legend()\n",
    "plt.show()"
   ]
  },
  {
   "cell_type": "code",
   "execution_count": null,
   "id": "51bd9b36",
   "metadata": {},
   "outputs": [],
   "source": [
    "#KDE plot for Typical Price\n",
    "for ticker in tickers:\n",
    "    sns.kdeplot(realestate_df[realestate_df['Ticker'] == ticker]['Typical Price'], label=ticker)\n",
    "plt.title('KDE Plot of Typical Price for Top 20 Real Estate Stocks')\n",
    "plt.xlabel('Typical Price')\n",
    "plt.xlim(0, 1000)\n",
    "plt.ylabel('Density')\n",
    "plt.legend()\n",
    "plt.show()"
   ]
  },
  {
   "cell_type": "markdown",
   "id": "1d4d69f5-a7cd-4c3d-972d-b91c9cd77930",
   "metadata": {},
   "source": [
    "#### 4) Generate a Correlation Heatmap to Spot Redundant Features\n",
    "Highly correlated features can be redundant and may hurt certain models. Use a heatmap to visually inspect correlation between numerical features.\n",
    "- **Resource**: [5 Minute EDA: Correlation Heatmap](https://medium.com/5-minute-eda/5-minute-eda-correlation-heatmap-b57bbb7bae14)"
   ]
  },
  {
   "cell_type": "code",
   "execution_count": null,
   "id": "678036e8-3a93-4bbf-ac89-2a607805bb70",
   "metadata": {},
   "outputs": [],
   "source": [
    "sns.set(style=\"white\")\n",
    "corr = realestate_df.drop(\"Ticker\", axis = 1).drop(\"Date\", axis =1).corr()\n",
    "mask = np.zeros_like(corr, dtype=bool)\n",
    "mask[np.triu_indices_from(mask)] = True\n",
    "f, ax = plt.subplots(figsize=(11,9))\n",
    "cmap = sns.diverging_palette(220,10,as_cmap=True)\n",
    "sns.heatmap(corr,mask=mask,cmap=cmap,vmax=1,center=0,square=True, \n",
    "            linewidth=.5, cbar_kws={'shrink': .5})\n",
    "ax.set_title('Multi-Collinearity of Stock Features')\n",
    "\n",
    "#High correlation between Close with BB, ATR, EMA, SMA, VWAP, Typical Price; know BB and ATR are calculated from SMA; \n",
    "#considering looking at correlation between Close and SMA_20, VWAP, EMA_20 first"
   ]
  },
  {
   "cell_type": "markdown",
   "id": "422b7551-9736-42a0-92b2-8bfe70d32b90",
   "metadata": {},
   "source": [
    "#### 5) Check the Relationship Between Features and the Target\n",
    "Explore how technical indicators relate to the target (next day’s close). Use scatter plots or group-by summaries to spot patterns.\n",
    "- **Resource**: [Scatter plot with a grouping variable with Pandas](https://python-graph-gallery.com/537-scatter-plots-grouped-by-color-with-pandas/)"
   ]
  },
  {
   "cell_type": "code",
   "execution_count": null,
   "id": "d0460790-3250-4b3c-a852-7dc283133b26",
   "metadata": {},
   "outputs": [],
   "source": [
    "#Close against SMA_20 --> how to make it against next day's closing?\n",
    "realestate_df.plot.scatter('SMA_20', # x-axis\n",
    "                'Close', # y-axis\n",
    "                grid=True,\n",
    "               )\n",
    "plt.show()"
   ]
  },
  {
   "cell_type": "code",
   "execution_count": 5,
   "id": "0ff89202",
   "metadata": {},
   "outputs": [
    {
     "ename": "NameError",
     "evalue": "name 'realestate_df' is not defined",
     "output_type": "error",
     "traceback": [
      "\u001b[0;31m---------------------------------------------------------------------------\u001b[0m",
      "\u001b[0;31mNameError\u001b[0m                                 Traceback (most recent call last)",
      "\u001b[0;32m<ipython-input-5-060a62d067e7>\u001b[0m in \u001b[0;36m<module>\u001b[0;34m\u001b[0m\n\u001b[1;32m      1\u001b[0m \u001b[0;31m#Close against EMA_20\u001b[0m\u001b[0;34m\u001b[0m\u001b[0;34m\u001b[0m\u001b[0;34m\u001b[0m\u001b[0m\n\u001b[0;32m----> 2\u001b[0;31m realestate_df.plot.scatter('EMA_20', # x-axis\n\u001b[0m\u001b[1;32m      3\u001b[0m                 \u001b[0;34m'Close'\u001b[0m\u001b[0;34m,\u001b[0m \u001b[0;31m# y-axis\u001b[0m\u001b[0;34m\u001b[0m\u001b[0;34m\u001b[0m\u001b[0m\n\u001b[1;32m      4\u001b[0m                 \u001b[0mgrid\u001b[0m\u001b[0;34m=\u001b[0m\u001b[0;32mTrue\u001b[0m\u001b[0;34m,\u001b[0m\u001b[0;34m\u001b[0m\u001b[0;34m\u001b[0m\u001b[0m\n\u001b[1;32m      5\u001b[0m                )\n",
      "\u001b[0;31mNameError\u001b[0m: name 'realestate_df' is not defined"
     ]
    }
   ],
   "source": [
    "#Close against EMA_20 \n",
    "realestate_df.plot.scatter('EMA_20', # x-axis\n",
    "                'Close', # y-axis\n",
    "                grid=True,\n",
    "               )\n",
    "plt.show()\n",
    "#--> note that EMA_20 and SMA_20 are essentially the same shape, follow closely together. Can probably choose one or the other."
   ]
  },
  {
   "cell_type": "code",
   "execution_count": null,
   "id": "f4c37e02",
   "metadata": {},
   "outputs": [],
   "source": [
    "#Close against VWAP \n",
    "realestate_df.plot.scatter('VWAP', # x-axis\n",
    "                'Close', # y-axis\n",
    "                grid=True,\n",
    "               )\n",
    "plt.show()"
   ]
  },
  {
   "cell_type": "code",
   "execution_count": null,
   "id": "b0bdb612",
   "metadata": {},
   "outputs": [],
   "source": [
    "#Close against Typical Price \n",
    "realestate_df.plot.scatter('Typical Price', # x-axis\n",
    "                'Close', # y-axis\n",
    "                grid=True,\n",
    "               )\n",
    "plt.show()"
   ]
  },
  {
   "cell_type": "code",
   "execution_count": null,
   "id": "855ce7bb",
   "metadata": {},
   "outputs": [],
   "source": [
    "#Close against BB\n",
    "bb_upper= realestate_df.plot.scatter('Close', # x-axis\n",
    "                'BB_Upper', # y-axis\n",
    "                grid=True,\n",
    "                color = 'green'\n",
    "               )\n",
    "realestate_df.plot.scatter('Close',\n",
    "                'BB_Lower',\n",
    "                grid = True,\n",
    "                color = 'red'\n",
    "                )\n",
    "plt.show()"
   ]
  },
  {
   "cell_type": "markdown",
   "id": "306396c2-b666-4e3d-a1fd-79957bc33bac",
   "metadata": {},
   "source": [
    "#### 6) Use Boxplots to Detect Outliers\n",
    "- Boxplots are a great way to spot extreme values or outliers in numeric features. \n",
    "- Outliers can influence your model heavily — decide whether to keep, remove, or transform them.\n",
    "- **Resource**: [How to detect outliers using IQR and Boxplots?](https://www.machinelearningplus.com/machine-learning/how-to-detect-outliers-using-iqr-and-boxplots/)"
   ]
  },
  {
   "cell_type": "code",
   "execution_count": null,
   "id": "bc05c922-f965-4a28-b4dc-ea300829c0b6",
   "metadata": {},
   "outputs": [],
   "source": [
    "realestate_input_num_columns = ['Open', 'High', 'Low', 'Close', 'Volume',\n",
    "       'Daily Return', 'Typical Price', 'VWAP', 'SMA_20', 'EMA_20', 'RSI_14',\n",
    "       'MACD', 'MACD_Signal', 'BB_Upper', 'BB_Lower', 'ATR', 'OBV']\n",
    "for column in df:\n",
    "    if column in realestate_input_num_columns:\n",
    "        plt.figure()\n",
    "        plt.gca().set_title(column)\n",
    "        df.boxplot([column])\n",
    "plt.show()"
   ]
  },
  {
   "cell_type": "markdown",
   "id": "ba0c8403-4973-4dd2-b48b-b5237768e8fe",
   "metadata": {},
   "source": [
    "#### 7) Investigate Patterns Over Time or Between Groups (Sector, Ticker, etc.)\n",
    "- Use time-based plots to see if the target or indicators change by day of the week or over time.\n",
    "- Grouped boxplots can help reveal differences between companies or sectors.\n",
    "- **Resource**: [Python Plotting for Exploratory Data Analysis](https://pythonplot.com/)"
   ]
  },
  {
   "cell_type": "code",
   "execution_count": null,
   "id": "03646f8e-cce6-4a56-863d-0963e8c25321",
   "metadata": {},
   "outputs": [],
   "source": []
  },
  {
   "cell_type": "markdown",
   "id": "146e2469-0dbf-49b8-85fe-0d6b0fbb9d52",
   "metadata": {},
   "source": [
    "#### 8) Brainstorm & Engineer New Features Based on Your Insights\n",
    "- Consider creating features like price range, volatility, lagged prices, or differences from moving averages.\n",
    "- These can help capture patterns not directly visible in raw features.\n",
    "- **Resource**: [A Reference Guide to Feature Engineering](https://www.kaggle.com/code/prashant111/a-reference-guide-to-feature-engineering-methods)"
   ]
  },
  {
   "cell_type": "code",
   "execution_count": null,
   "id": "7b3122a5-7434-4460-93d5-0a12242b59af",
   "metadata": {},
   "outputs": [],
   "source": []
  }
 ],
 "metadata": {
  "kernelspec": {
   "display_name": "base",
   "language": "python",
   "name": "python3"
  },
  "language_info": {
   "codemirror_mode": {
    "name": "ipython",
    "version": 3
   },
   "file_extension": ".py",
   "mimetype": "text/x-python",
   "name": "python",
   "nbconvert_exporter": "python",
   "pygments_lexer": "ipython3",
   "version": "3.8.5"
  }
 },
 "nbformat": 4,
 "nbformat_minor": 5
}
