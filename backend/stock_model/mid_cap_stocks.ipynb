{
 "cells": [
  {
   "cell_type": "code",
   "execution_count": 1,
   "id": "18cb2a96-d376-475c-93a3-446637ca0083",
   "metadata": {},
   "outputs": [
    {
     "name": "stdout",
     "output_type": "stream",
     "text": [
      "Requirement already satisfied: yfinance in c:\\users\\anupr\\appdata\\local\\programs\\python\\python313\\lib\\site-packages (0.2.54)\n",
      "Requirement already satisfied: pandas>=1.3.0 in c:\\users\\anupr\\appdata\\local\\programs\\python\\python313\\lib\\site-packages (from yfinance) (2.2.3)\n",
      "Requirement already satisfied: numpy>=1.16.5 in c:\\users\\anupr\\appdata\\local\\programs\\python\\python313\\lib\\site-packages (from yfinance) (2.1.3)\n",
      "Requirement already satisfied: requests>=2.31 in c:\\users\\anupr\\appdata\\local\\programs\\python\\python313\\lib\\site-packages (from yfinance) (2.32.3)\n",
      "Requirement already satisfied: multitasking>=0.0.7 in c:\\users\\anupr\\appdata\\local\\programs\\python\\python313\\lib\\site-packages (from yfinance) (0.0.11)\n",
      "Requirement already satisfied: platformdirs>=2.0.0 in c:\\users\\anupr\\appdata\\roaming\\python\\python313\\site-packages (from yfinance) (4.3.6)\n",
      "Requirement already satisfied: pytz>=2022.5 in c:\\users\\anupr\\appdata\\local\\programs\\python\\python313\\lib\\site-packages (from yfinance) (2024.2)\n",
      "Requirement already satisfied: frozendict>=2.3.4 in c:\\users\\anupr\\appdata\\local\\programs\\python\\python313\\lib\\site-packages (from yfinance) (2.4.6)\n",
      "Requirement already satisfied: peewee>=3.16.2 in c:\\users\\anupr\\appdata\\local\\programs\\python\\python313\\lib\\site-packages (from yfinance) (3.17.9)\n",
      "Requirement already satisfied: beautifulsoup4>=4.11.1 in c:\\users\\anupr\\appdata\\local\\programs\\python\\python313\\lib\\site-packages (from yfinance) (4.13.3)\n",
      "Requirement already satisfied: soupsieve>1.2 in c:\\users\\anupr\\appdata\\local\\programs\\python\\python313\\lib\\site-packages (from beautifulsoup4>=4.11.1->yfinance) (2.6)\n",
      "Requirement already satisfied: typing-extensions>=4.0.0 in c:\\users\\anupr\\appdata\\local\\programs\\python\\python313\\lib\\site-packages (from beautifulsoup4>=4.11.1->yfinance) (4.12.2)\n",
      "Requirement already satisfied: python-dateutil>=2.8.2 in c:\\users\\anupr\\appdata\\local\\programs\\python\\python313\\lib\\site-packages (from pandas>=1.3.0->yfinance) (2.9.0.post0)\n",
      "Requirement already satisfied: tzdata>=2022.7 in c:\\users\\anupr\\appdata\\local\\programs\\python\\python313\\lib\\site-packages (from pandas>=1.3.0->yfinance) (2024.2)\n",
      "Requirement already satisfied: charset-normalizer<4,>=2 in c:\\users\\anupr\\appdata\\local\\programs\\python\\python313\\lib\\site-packages (from requests>=2.31->yfinance) (3.4.0)\n",
      "Requirement already satisfied: idna<4,>=2.5 in c:\\users\\anupr\\appdata\\local\\programs\\python\\python313\\lib\\site-packages (from requests>=2.31->yfinance) (3.10)\n",
      "Requirement already satisfied: urllib3<3,>=1.21.1 in c:\\users\\anupr\\appdata\\local\\programs\\python\\python313\\lib\\site-packages (from requests>=2.31->yfinance) (2.2.3)\n",
      "Requirement already satisfied: certifi>=2017.4.17 in c:\\users\\anupr\\appdata\\local\\programs\\python\\python313\\lib\\site-packages (from requests>=2.31->yfinance) (2024.8.30)\n",
      "Requirement already satisfied: six>=1.5 in c:\\users\\anupr\\appdata\\local\\programs\\python\\python313\\lib\\site-packages (from python-dateutil>=2.8.2->pandas>=1.3.0->yfinance) (1.16.0)\n"
     ]
    }
   ],
   "source": [
    "!pip install yfinance"
   ]
  },
  {
   "cell_type": "code",
   "execution_count": 4,
   "id": "7738a01c-16fa-4653-9e4d-226731c380f2",
   "metadata": {},
   "outputs": [],
   "source": [
    "import yfinance as yf"
   ]
  },
  {
   "cell_type": "code",
   "execution_count": 6,
   "id": "0e4b991d-6ccb-4994-a28c-72109f4e331f",
   "metadata": {},
   "outputs": [
    {
     "name": "stdout",
     "output_type": "stream",
     "text": [
      "                                Open       High        Low      Close  \\\n",
      "Date                                                                    \n",
      "2018-03-14 00:00:00-04:00  42.546646  42.593836  41.954408  42.103058   \n",
      "2018-03-15 00:00:00-04:00  42.117204  42.527760  42.015747  42.152596   \n",
      "2018-03-16 00:00:00-04:00  42.152606  42.263503  41.909577  42.003960   \n",
      "2018-03-19 00:00:00-04:00  41.838804  41.874196  40.975223  41.362183   \n",
      "2018-03-20 00:00:00-04:00  41.348015  41.716097  41.277229  41.348015   \n",
      "\n",
      "                              Volume  Dividends  Stock Splits  \n",
      "Date                                                           \n",
      "2018-03-14 00:00:00-04:00  117473600        0.0           0.0  \n",
      "2018-03-15 00:00:00-04:00   90975200        0.0           0.0  \n",
      "2018-03-16 00:00:00-04:00  157618800        0.0           0.0  \n",
      "2018-03-19 00:00:00-04:00  133787200        0.0           0.0  \n",
      "2018-03-20 00:00:00-04:00   78597600        0.0           0.0  \n"
     ]
    }
   ],
   "source": [
    "ticker = yf.Ticker(\"AAPL\")\n",
    "hist_data = ticker.history(period=\"7y\")\n",
    "\n",
    "print(hist_data.head())"
   ]
  },
  {
   "cell_type": "code",
   "execution_count": 9,
   "id": "3f420e69-043d-4dd6-90a1-adcbcc18fb46",
   "metadata": {},
   "outputs": [
    {
     "name": "stdout",
     "output_type": "stream",
     "text": [
      "                                Open       High        Low      Close  \\\n",
      "Date                                                                    \n",
      "2020-06-02 00:00:00-04:00  78.050005  78.704580  77.607132  78.680244   \n",
      "2020-06-03 00:00:00-04:00  79.001448  79.376187  78.427171  79.113380   \n",
      "2020-06-04 00:00:00-04:00  78.935745  79.235043  78.057298  78.432037   \n",
      "2020-06-05 00:00:00-04:00  78.682669  80.726689  78.653470  80.665855   \n",
      "\n",
      "                              Volume  Dividends  Stock Splits  \n",
      "Date                                                           \n",
      "2020-06-02 00:00:00-04:00   87642800        0.0           0.0  \n",
      "2020-06-03 00:00:00-04:00  104491200        0.0           0.0  \n",
      "2020-06-04 00:00:00-04:00   87560400        0.0           0.0  \n",
      "2020-06-05 00:00:00-04:00  137250400        0.0           0.0  \n"
     ]
    }
   ],
   "source": [
    "aapl_historical = ticker.history(start=\"2020-06-02\", end=\"2020-06-07\", interval=\"1d\")  # 1d for longer ticker\n",
    "print(aapl_historical)"
   ]
  },
  {
   "cell_type": "code",
   "execution_count": null,
   "id": "aac97058-fa1a-4fe8-bbe0-1556d8519c08",
   "metadata": {},
   "outputs": [],
   "source": []
  }
 ],
 "metadata": {
  "kernelspec": {
   "display_name": "Python 3 (ipykernel)",
   "language": "python",
   "name": "python3"
  },
  "language_info": {
   "codemirror_mode": {
    "name": "ipython",
    "version": 3
   },
   "file_extension": ".py",
   "mimetype": "text/x-python",
   "name": "python",
   "nbconvert_exporter": "python",
   "pygments_lexer": "ipython3",
   "version": "3.13.0"
  }
 },
 "nbformat": 4,
 "nbformat_minor": 5
}
